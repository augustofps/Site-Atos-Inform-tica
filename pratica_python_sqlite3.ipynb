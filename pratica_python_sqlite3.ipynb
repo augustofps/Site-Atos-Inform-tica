{
  "nbformat": 4,
  "nbformat_minor": 0,
  "metadata": {
    "colab": {
      "provenance": [],
      "authorship_tag": "ABX9TyPBDVRQp75myl0MLopaaja/",
      "include_colab_link": true
    },
    "kernelspec": {
      "name": "python3",
      "display_name": "Python 3"
    },
    "language_info": {
      "name": "python"
    }
  },
  "cells": [
    {
      "cell_type": "markdown",
      "metadata": {
        "id": "view-in-github",
        "colab_type": "text"
      },
      "source": [
        "<a href=\"https://colab.research.google.com/github/augustofps/Site-Atos-Inform-tica/blob/main/pratica_python_sqlite3.ipynb\" target=\"_parent\"><img src=\"https://colab.research.google.com/assets/colab-badge.svg\" alt=\"Open In Colab\"/></a>"
      ]
    },
    {
      "cell_type": "code",
      "execution_count": 3,
      "metadata": {
        "colab": {
          "base_uri": "https://localhost:8080/"
        },
        "id": "rxW5sitZTbf0",
        "outputId": "b4662715-1941-4c2e-d088-3e1e5b261790"
      },
      "outputs": [
        {
          "output_type": "stream",
          "name": "stdout",
          "text": [
            "[(1, 'Oficina de Música', '2024-06-05', '16:00', 'Aulas de música para crianças'), (2, 'Oficina de Música', '2024-06-05', '16:00', 'Aulas de música para crianças'), (3, 'Oficina de Música', '2024-06-05', '16:00', 'Aulas de música para crianças')]\n"
          ]
        }
      ],
      "source": [
        "import sqlite3\n",
        "\n",
        "# Cria uma conexão com o banco de dados (ou cria o arquivo se não existir)\n",
        "conn = sqlite3.connect('centro_cultural.db')\n",
        "cursor = conn.cursor()\n",
        "\n",
        "# Cria a tabela\n",
        "cursor.execute('''\n",
        "CREATE TABLE IF NOT EXISTS Oficina (\n",
        "    id INTEGER PRIMARY KEY,\n",
        "    nome TEXT,\n",
        "    data TEXT,\n",
        "    hora TEXT,\n",
        "    descricao TEXT\n",
        ")\n",
        "''')\n",
        "\n",
        "# Insere um registro\n",
        "cursor.execute('''\n",
        "INSERT INTO Oficina (nome, data, hora, descricao)\n",
        "VALUES ('Oficina de Música', '2024-06-05', '16:00', 'Aulas de música para crianças')\n",
        "''')\n",
        "\n",
        "# Consulta os dados\n",
        "cursor.execute('SELECT * FROM Oficina')\n",
        "print(cursor.fetchall())\n",
        "\n",
        "conn.commit()\n",
        "conn.close()"
      ]
    },
    {
      "cell_type": "code",
      "source": [],
      "metadata": {
        "id": "GaOKWj7DUQ5o"
      },
      "execution_count": null,
      "outputs": []
    }
  ]
}