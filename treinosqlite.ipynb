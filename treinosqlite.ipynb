{
  "nbformat": 4,
  "nbformat_minor": 0,
  "metadata": {
    "colab": {
      "provenance": [],
      "authorship_tag": "ABX9TyMd8+2H6Ge1btbKfavlJF9j",
      "include_colab_link": true
    },
    "kernelspec": {
      "name": "python3",
      "display_name": "Python 3"
    },
    "language_info": {
      "name": "python"
    }
  },
  "cells": [
    {
      "cell_type": "markdown",
      "metadata": {
        "id": "view-in-github",
        "colab_type": "text"
      },
      "source": [
        "<a href=\"https://colab.research.google.com/github/augustofps/Site-Atos-Inform-tica/blob/main/treinosqlite.ipynb\" target=\"_parent\"><img src=\"https://colab.research.google.com/assets/colab-badge.svg\" alt=\"Open In Colab\"/></a>"
      ]
    },
    {
      "cell_type": "code",
      "source": [
        "import sqlite3\n",
        "\n",
        "# Conecta ao banco de dados\n",
        "conn = sqlite3.connect('meu_banco.db')\n",
        "cursor = conn.cursor()\n",
        "\n",
        "# Cria a tabela\n",
        "cursor.execute('''\n",
        "CREATE TABLE IF NOT EXISTS clientes (\n",
        "    id INTEGER PRIMARY KEY,\n",
        "    nome TEXT,\n",
        "    email TEXT\n",
        ")\n",
        "''')\n",
        "\n",
        "# Insere dados\n",
        "cursor.execute('''\n",
        "INSERT INTO clientes (nome, email)\n",
        "VALUES ('João Silva', 'joao@email.com')\n",
        "''')\n",
        "cursor.execute('''\n",
        "INSERT INTO clientes (nome, email)\n",
        "VALUES ('Maria Souza', 'maria@email.com')\n",
        "''')\n",
        "\n",
        "# Consulta dados\n",
        "# Fechar a conexão\n",
        "conn.commit()"
      ],
      "metadata": {
        "id": "KWAIRYj_W0j5"
      },
      "execution_count": 8,
      "outputs": []
    },
    {
      "cell_type": "code",
      "source": [],
      "metadata": {
        "id": "SSG1tCFdXOPc"
      },
      "execution_count": null,
      "outputs": []
    }
  ]
}